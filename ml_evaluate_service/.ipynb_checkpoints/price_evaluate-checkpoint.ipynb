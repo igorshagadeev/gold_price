{
 "cells": [
  {
   "cell_type": "code",
   "execution_count": 3,
   "metadata": {
    "collapsed": false
   },
   "outputs": [],
   "source": [
    "import numpy as np\n",
    "import pandas as pd\n",
    "import matplotlib.pyplot as plt\n",
    "import mpl_toolkits\n",
    "import seaborn as sns\n",
    "from datetime import datetime\n",
    "\n",
    "from populate_db import generate\n",
    "\n",
    "%matplotlib inline"
   ]
  },
  {
   "cell_type": "code",
   "execution_count": 4,
   "metadata": {
    "collapsed": true
   },
   "outputs": [],
   "source": [
    "max_values = 10000\n",
    "# generate amount of data\n",
    "generate(max_values)"
   ]
  },
  {
   "cell_type": "code",
   "execution_count": 5,
   "metadata": {
    "collapsed": true
   },
   "outputs": [],
   "source": [
    "data = pd.read_csv(\"data.csv\")"
   ]
  },
  {
   "cell_type": "code",
   "execution_count": 6,
   "metadata": {
    "collapsed": false
   },
   "outputs": [
    {
     "data": {
      "text/html": [
       "<div>\n",
       "<table border=\"1\" class=\"dataframe\">\n",
       "  <thead>\n",
       "    <tr style=\"text-align: right;\">\n",
       "      <th></th>\n",
       "      <th>probe</th>\n",
       "      <th>weight</th>\n",
       "      <th>jew_type</th>\n",
       "      <th>jew_weight</th>\n",
       "      <th>complexity</th>\n",
       "      <th>price</th>\n",
       "    </tr>\n",
       "  </thead>\n",
       "  <tbody>\n",
       "    <tr>\n",
       "      <th>0</th>\n",
       "      <td>600</td>\n",
       "      <td>5</td>\n",
       "      <td>3</td>\n",
       "      <td>6</td>\n",
       "      <td>2</td>\n",
       "      <td>305966.21</td>\n",
       "    </tr>\n",
       "    <tr>\n",
       "      <th>1</th>\n",
       "      <td>585</td>\n",
       "      <td>6</td>\n",
       "      <td>3</td>\n",
       "      <td>2</td>\n",
       "      <td>4</td>\n",
       "      <td>404875.50</td>\n",
       "    </tr>\n",
       "    <tr>\n",
       "      <th>2</th>\n",
       "      <td>600</td>\n",
       "      <td>9</td>\n",
       "      <td>7</td>\n",
       "      <td>4</td>\n",
       "      <td>4</td>\n",
       "      <td>932696.14</td>\n",
       "    </tr>\n",
       "    <tr>\n",
       "      <th>3</th>\n",
       "      <td>585</td>\n",
       "      <td>6</td>\n",
       "      <td>3</td>\n",
       "      <td>8</td>\n",
       "      <td>3</td>\n",
       "      <td>519433.94</td>\n",
       "    </tr>\n",
       "    <tr>\n",
       "      <th>4</th>\n",
       "      <td>700</td>\n",
       "      <td>9</td>\n",
       "      <td>1</td>\n",
       "      <td>6</td>\n",
       "      <td>4</td>\n",
       "      <td>832425.00</td>\n",
       "    </tr>\n",
       "  </tbody>\n",
       "</table>\n",
       "</div>"
      ],
      "text/plain": [
       "   probe  weight  jew_type  jew_weight  complexity      price\n",
       "0    600       5         3           6           2  305966.21\n",
       "1    585       6         3           2           4  404875.50\n",
       "2    600       9         7           4           4  932696.14\n",
       "3    585       6         3           8           3  519433.94\n",
       "4    700       9         1           6           4  832425.00"
      ]
     },
     "execution_count": 6,
     "metadata": {},
     "output_type": "execute_result"
    }
   ],
   "source": [
    "data.head()"
   ]
  },
  {
   "cell_type": "code",
   "execution_count": 7,
   "metadata": {
    "collapsed": false
   },
   "outputs": [
    {
     "data": {
      "text/html": [
       "<div>\n",
       "<table border=\"1\" class=\"dataframe\">\n",
       "  <thead>\n",
       "    <tr style=\"text-align: right;\">\n",
       "      <th></th>\n",
       "      <th>probe</th>\n",
       "      <th>weight</th>\n",
       "      <th>jew_type</th>\n",
       "      <th>jew_weight</th>\n",
       "      <th>complexity</th>\n",
       "      <th>price</th>\n",
       "    </tr>\n",
       "  </thead>\n",
       "  <tbody>\n",
       "    <tr>\n",
       "      <th>count</th>\n",
       "      <td>10000.000000</td>\n",
       "      <td>10000.0000</td>\n",
       "      <td>10000.000000</td>\n",
       "      <td>10000.000000</td>\n",
       "      <td>10000.000000</td>\n",
       "      <td>1.000000e+04</td>\n",
       "    </tr>\n",
       "    <tr>\n",
       "      <th>mean</th>\n",
       "      <td>596.479500</td>\n",
       "      <td>5.4996</td>\n",
       "      <td>5.506300</td>\n",
       "      <td>5.496300</td>\n",
       "      <td>2.993400</td>\n",
       "      <td>7.284435e+05</td>\n",
       "    </tr>\n",
       "    <tr>\n",
       "      <th>std</th>\n",
       "      <td>71.551559</td>\n",
       "      <td>2.8750</td>\n",
       "      <td>2.877949</td>\n",
       "      <td>2.867997</td>\n",
       "      <td>1.415824</td>\n",
       "      <td>6.068717e+05</td>\n",
       "    </tr>\n",
       "    <tr>\n",
       "      <th>min</th>\n",
       "      <td>500.000000</td>\n",
       "      <td>1.0000</td>\n",
       "      <td>1.000000</td>\n",
       "      <td>1.000000</td>\n",
       "      <td>1.000000</td>\n",
       "      <td>2.546678e+04</td>\n",
       "    </tr>\n",
       "    <tr>\n",
       "      <th>25%</th>\n",
       "      <td>500.000000</td>\n",
       "      <td>3.0000</td>\n",
       "      <td>3.000000</td>\n",
       "      <td>3.000000</td>\n",
       "      <td>2.000000</td>\n",
       "      <td>3.174849e+05</td>\n",
       "    </tr>\n",
       "    <tr>\n",
       "      <th>50%</th>\n",
       "      <td>600.000000</td>\n",
       "      <td>5.0000</td>\n",
       "      <td>5.000000</td>\n",
       "      <td>5.000000</td>\n",
       "      <td>3.000000</td>\n",
       "      <td>5.432243e+05</td>\n",
       "    </tr>\n",
       "    <tr>\n",
       "      <th>75%</th>\n",
       "      <td>700.000000</td>\n",
       "      <td>8.0000</td>\n",
       "      <td>8.000000</td>\n",
       "      <td>8.000000</td>\n",
       "      <td>4.000000</td>\n",
       "      <td>9.512834e+05</td>\n",
       "    </tr>\n",
       "    <tr>\n",
       "      <th>max</th>\n",
       "      <td>700.000000</td>\n",
       "      <td>10.0000</td>\n",
       "      <td>10.000000</td>\n",
       "      <td>10.000000</td>\n",
       "      <td>5.000000</td>\n",
       "      <td>4.560782e+06</td>\n",
       "    </tr>\n",
       "  </tbody>\n",
       "</table>\n",
       "</div>"
      ],
      "text/plain": [
       "              probe      weight      jew_type    jew_weight    complexity  \\\n",
       "count  10000.000000  10000.0000  10000.000000  10000.000000  10000.000000   \n",
       "mean     596.479500      5.4996      5.506300      5.496300      2.993400   \n",
       "std       71.551559      2.8750      2.877949      2.867997      1.415824   \n",
       "min      500.000000      1.0000      1.000000      1.000000      1.000000   \n",
       "25%      500.000000      3.0000      3.000000      3.000000      2.000000   \n",
       "50%      600.000000      5.0000      5.000000      5.000000      3.000000   \n",
       "75%      700.000000      8.0000      8.000000      8.000000      4.000000   \n",
       "max      700.000000     10.0000     10.000000     10.000000      5.000000   \n",
       "\n",
       "              price  \n",
       "count  1.000000e+04  \n",
       "mean   7.284435e+05  \n",
       "std    6.068717e+05  \n",
       "min    2.546678e+04  \n",
       "25%    3.174849e+05  \n",
       "50%    5.432243e+05  \n",
       "75%    9.512834e+05  \n",
       "max    4.560782e+06  "
      ]
     },
     "execution_count": 7,
     "metadata": {},
     "output_type": "execute_result"
    }
   ],
   "source": [
    "data.describe()"
   ]
  },
  {
   "cell_type": "code",
   "execution_count": 8,
   "metadata": {
    "collapsed": false
   },
   "outputs": [
    {
     "data": {
      "text/plain": [
       "<function seaborn.utils.despine>"
      ]
     },
     "execution_count": 8,
     "metadata": {},
     "output_type": "execute_result"
    },
    {
     "data": {
      "image/png": "[encoded data removed]",
      "text/plain": [
       "<matplotlib.figure.Figure at 0x7f0b14b41eb8>"
      ]
     },
     "metadata": {},
     "output_type": "display_data"
    }
   ],
   "source": [
    "data['jew_type'].value_counts().plot(kind='bar')\n",
    "plt.title('jew_type dispersion')\n",
    "plt.xlabel('jew_type')\n",
    "plt.ylabel('Count')\n",
    "sns.despine"
   ]
  },
  {
   "cell_type": "code",
   "execution_count": 9,
   "metadata": {
    "collapsed": false
   },
   "outputs": [
    {
     "data": {
      "text/plain": [
       "<matplotlib.figure.Figure at 0x7f0b14b41c50>"
      ]
     },
     "metadata": {},
     "output_type": "display_data"
    },
    {
     "data": {
      "image/png": "[encoded data removed]",
      "text/plain": [
       "<matplotlib.figure.Figure at 0x7f0b12a3f780>"
      ]
     },
     "metadata": {},
     "output_type": "display_data"
    },
    {
     "data": {
      "text/plain": [
       "<function seaborn.utils.despine>"
      ]
     },
     "execution_count": 9,
     "metadata": {},
     "output_type": "execute_result"
    }
   ],
   "source": [
    "plt.figure(figsize=(10,10))\n",
    "sns.jointplot(x=data.complexity.values, y=data.price.values, size=10)\n",
    "plt.ylabel('complexity', fontsize=12)\n",
    "plt.xlabel('price', fontsize=12)\n",
    "plt.show()\n",
    "sns.despine"
   ]
  },
  {
   "cell_type": "code",
   "execution_count": 10,
   "metadata": {
    "collapsed": false
   },
   "outputs": [
    {
     "data": {
      "text/plain": [
       "<matplotlib.text.Text at 0x7f0b12547cf8>"
      ]
     },
     "execution_count": 10,
     "metadata": {},
     "output_type": "execute_result"
    },
    {
     "data": {
      "image/png": "[encoded data removed]",
      "text/plain": [
       "<matplotlib.figure.Figure at 0x7f0b14b30e80>"
      ]
     },
     "metadata": {},
     "output_type": "display_data"
    }
   ],
   "source": [
    "plt.scatter(data.price,data.jew_type)\n",
    "plt.title(\"Price vs Square Feet\")"
   ]
  },
  {
   "cell_type": "code",
   "execution_count": 11,
   "metadata": {
    "collapsed": true
   },
   "outputs": [],
   "source": [
    "labels = data['price']\n",
    "train1 = data.drop(['price'],axis=1)"
   ]
  },
  {
   "cell_type": "code",
   "execution_count": 12,
   "metadata": {
    "collapsed": false
   },
   "outputs": [
    {
     "name": "stderr",
     "output_type": "stream",
     "text": [
      "/usr/lib/python3.6/site-packages/sklearn/cross_validation.py:41: DeprecationWarning: This module was deprecated in version 0.18 in favor of the model_selection module into which all the refactored classes and functions are moved. Also note that the interface of the new CV iterators are different from that of this module. This module will be removed in 0.20.\n",
      "  \"This module will be removed in 0.20.\", DeprecationWarning)\n"
     ]
    }
   ],
   "source": [
    "from sklearn.cross_validation import train_test_split\n",
    "\n",
    "x_train, x_test, y_train, y_test = train_test_split(train1, labels, test_size = 0.10, random_state =2)"
   ]
  },
  {
   "cell_type": "code",
   "execution_count": 13,
   "metadata": {
    "collapsed": false
   },
   "outputs": [
    {
     "name": "stdout",
     "output_type": "stream",
     "text": [
      "0:00:00.000108\n"
     ]
    }
   ],
   "source": [
    "from sklearn import ensemble\n",
    "# -15min on 1M entries (20.5mb csv)\n",
    "dt1 = datetime.now()\n",
    "\n",
    "clf = ensemble.GradientBoostingRegressor(n_estimators = 400, max_depth = 5, min_samples_split = 2,\n",
    "          learning_rate = 0.1, loss = 'ls')\n",
    "\n",
    "dt2 = datetime.now()\n",
    "print(dt2-dt1)"
   ]
  },
  {
   "cell_type": "code",
   "execution_count": 14,
   "metadata": {
    "collapsed": false
   },
   "outputs": [
    {
     "data": {
      "text/plain": [
       "GradientBoostingRegressor(alpha=0.9, criterion='friedman_mse', init=None,\n",
       "             learning_rate=0.1, loss='ls', max_depth=5, max_features=None,\n",
       "             max_leaf_nodes=None, min_impurity_decrease=0.0,\n",
       "             min_impurity_split=None, min_samples_leaf=1,\n",
       "             min_samples_split=2, min_weight_fraction_leaf=0.0,\n",
       "             n_estimators=400, presort='auto', random_state=None,\n",
       "             subsample=1.0, verbose=0, warm_start=False)"
      ]
     },
     "execution_count": 14,
     "metadata": {},
     "output_type": "execute_result"
    }
   ],
   "source": [
    "clf.fit(x_train, y_train)"
   ]
  },
  {
   "cell_type": "code",
   "execution_count": 15,
   "metadata": {
    "collapsed": false
   },
   "outputs": [
    {
     "data": {
      "text/plain": [
       "0.99943206166251986"
      ]
     },
     "execution_count": 15,
     "metadata": {},
     "output_type": "execute_result"
    }
   ],
   "source": [
    "clf.score(x_test,y_test)"
   ]
  },
  {
   "cell_type": "code",
   "execution_count": 16,
   "metadata": {
    "collapsed": false
   },
   "outputs": [],
   "source": [
    "import pickle\n",
    "with open('logmodel.pkl', 'wb') as f:\n",
    "    pickle.dump(clf, f, 2) "
   ]
  },
  {
   "cell_type": "code",
   "execution_count": 17,
   "metadata": {
    "collapsed": true
   },
   "outputs": [],
   "source": [
    "#Create a Dataframe with only the dummy variables\n",
    "features = dict(zip(train1.columns,range(train1.shape[1])))\n",
    "with open('columns.pkl', 'wb') as f:\n",
    "    pickle.dump(features, f, 2)  "
   ]
  },
  {
   "cell_type": "code",
   "execution_count": 18,
   "metadata": {
    "collapsed": false
   },
   "outputs": [
    {
     "name": "stdout",
     "output_type": "stream",
     "text": [
      "[('probe', 0.063185863061682807), ('weight', 0.18175751106825244), ('jew_type', 0.27527198120875812), ('jew_weight', 0.26355276594816063), ('complexity', 0.21623187871314581)]\n"
     ]
    }
   ],
   "source": [
    "# koeff stored in \n",
    "# clf.feature_importances_\n",
    "f_importances = list(zip(features, clf.feature_importances_))\n",
    "print(f_importances)"
   ]
  },
  {
   "cell_type": "code",
   "execution_count": 28,
   "metadata": {
    "collapsed": false
   },
   "outputs": [
    {
     "data": {
      "image/png": "[encoded data removed]",
      "text/plain": [
       "<matplotlib.figure.Figure at 0x7f0b12614978>"
      ]
     },
     "metadata": {},
     "output_type": "display_data"
    }
   ],
   "source": [
    "# display feature importance\n",
    "importances_name = np.array([f[0] for f in f_importances])\n",
    "importances_value = np.array([f[1] for f in f_importances])\n",
    "indices = np.argsort(importances_value)\n",
    "\n",
    "std = np.std([clf.feature_importances_,], axis=0)\n",
    "\n",
    "fig = plt.figure()\n",
    "plt.bar(range(len(indices)), importances_value[indices], width=0.3, color=\"#AEA79F\",\n",
    "        yerr=std[indices], ecolor=\"#DD4814\", align=\"center\")\n",
    "plt.xticks(range(len(indices)), importances_name[indices], rotation=45)\n",
    "plt.grid(color='gray', linestyle='-', linewidth=0.5)\n",
    "#plt.xlim([-1, len(indices)])\n",
    "#fig.set_tight_layout(True)\n",
    "#fig.clf()"
   ]
  },
  {
   "cell_type": "code",
   "execution_count": 20,
   "metadata": {
    "collapsed": false
   },
   "outputs": [
    {
     "data": {
      "text/html": [
       "<div>\n",
       "<table border=\"1\" class=\"dataframe\">\n",
       "  <thead>\n",
       "    <tr style=\"text-align: right;\">\n",
       "      <th></th>\n",
       "      <th>probe</th>\n",
       "      <th>weight</th>\n",
       "      <th>jew_type</th>\n",
       "      <th>jew_weight</th>\n",
       "      <th>complexity</th>\n",
       "      <th>price</th>\n",
       "      <th>abs_error</th>\n",
       "      <th>percent</th>\n",
       "      <th>pred_price</th>\n",
       "    </tr>\n",
       "  </thead>\n",
       "  <tbody>\n",
       "    <tr>\n",
       "      <th>0</th>\n",
       "      <td>600</td>\n",
       "      <td>5</td>\n",
       "      <td>3</td>\n",
       "      <td>6</td>\n",
       "      <td>2</td>\n",
       "      <td>305966.21</td>\n",
       "      <td>4100.09</td>\n",
       "      <td>0.01</td>\n",
       "      <td>310066.30</td>\n",
       "    </tr>\n",
       "    <tr>\n",
       "      <th>1</th>\n",
       "      <td>585</td>\n",
       "      <td>6</td>\n",
       "      <td>3</td>\n",
       "      <td>2</td>\n",
       "      <td>4</td>\n",
       "      <td>404875.50</td>\n",
       "      <td>13092.30</td>\n",
       "      <td>0.01</td>\n",
       "      <td>417967.80</td>\n",
       "    </tr>\n",
       "    <tr>\n",
       "      <th>2</th>\n",
       "      <td>600</td>\n",
       "      <td>9</td>\n",
       "      <td>7</td>\n",
       "      <td>4</td>\n",
       "      <td>4</td>\n",
       "      <td>932696.14</td>\n",
       "      <td>2070.68</td>\n",
       "      <td>0.01</td>\n",
       "      <td>934766.82</td>\n",
       "    </tr>\n",
       "    <tr>\n",
       "      <th>3</th>\n",
       "      <td>585</td>\n",
       "      <td>6</td>\n",
       "      <td>3</td>\n",
       "      <td>8</td>\n",
       "      <td>3</td>\n",
       "      <td>519433.94</td>\n",
       "      <td>-12320.47</td>\n",
       "      <td>0.01</td>\n",
       "      <td>507113.47</td>\n",
       "    </tr>\n",
       "    <tr>\n",
       "      <th>4</th>\n",
       "      <td>700</td>\n",
       "      <td>9</td>\n",
       "      <td>1</td>\n",
       "      <td>6</td>\n",
       "      <td>4</td>\n",
       "      <td>832425.00</td>\n",
       "      <td>-1464.83</td>\n",
       "      <td>0.01</td>\n",
       "      <td>830960.17</td>\n",
       "    </tr>\n",
       "    <tr>\n",
       "      <th>5</th>\n",
       "      <td>600</td>\n",
       "      <td>8</td>\n",
       "      <td>4</td>\n",
       "      <td>8</td>\n",
       "      <td>1</td>\n",
       "      <td>437097.58</td>\n",
       "      <td>4886.96</td>\n",
       "      <td>0.01</td>\n",
       "      <td>441984.54</td>\n",
       "    </tr>\n",
       "    <tr>\n",
       "      <th>6</th>\n",
       "      <td>585</td>\n",
       "      <td>1</td>\n",
       "      <td>8</td>\n",
       "      <td>4</td>\n",
       "      <td>1</td>\n",
       "      <td>239872.00</td>\n",
       "      <td>13086.63</td>\n",
       "      <td>0.01</td>\n",
       "      <td>252958.63</td>\n",
       "    </tr>\n",
       "    <tr>\n",
       "      <th>7</th>\n",
       "      <td>500</td>\n",
       "      <td>1</td>\n",
       "      <td>4</td>\n",
       "      <td>6</td>\n",
       "      <td>5</td>\n",
       "      <td>442561.13</td>\n",
       "      <td>-20178.95</td>\n",
       "      <td>0.01</td>\n",
       "      <td>422382.18</td>\n",
       "    </tr>\n",
       "    <tr>\n",
       "      <th>8</th>\n",
       "      <td>700</td>\n",
       "      <td>5</td>\n",
       "      <td>1</td>\n",
       "      <td>6</td>\n",
       "      <td>2</td>\n",
       "      <td>295053.97</td>\n",
       "      <td>2993.22</td>\n",
       "      <td>0.01</td>\n",
       "      <td>298047.19</td>\n",
       "    </tr>\n",
       "    <tr>\n",
       "      <th>9</th>\n",
       "      <td>700</td>\n",
       "      <td>8</td>\n",
       "      <td>5</td>\n",
       "      <td>5</td>\n",
       "      <td>4</td>\n",
       "      <td>982662.07</td>\n",
       "      <td>29167.46</td>\n",
       "      <td>0.01</td>\n",
       "      <td>1011829.53</td>\n",
       "    </tr>\n",
       "  </tbody>\n",
       "</table>\n",
       "</div>"
      ],
      "text/plain": [
       "   probe  weight  jew_type  jew_weight  complexity      price  abs_error  \\\n",
       "0    600       5         3           6           2  305966.21    4100.09   \n",
       "1    585       6         3           2           4  404875.50   13092.30   \n",
       "2    600       9         7           4           4  932696.14    2070.68   \n",
       "3    585       6         3           8           3  519433.94  -12320.47   \n",
       "4    700       9         1           6           4  832425.00   -1464.83   \n",
       "5    600       8         4           8           1  437097.58    4886.96   \n",
       "6    585       1         8           4           1  239872.00   13086.63   \n",
       "7    500       1         4           6           5  442561.13  -20178.95   \n",
       "8    700       5         1           6           2  295053.97    2993.22   \n",
       "9    700       8         5           5           4  982662.07   29167.46   \n",
       "\n",
       "   percent  pred_price  \n",
       "0     0.01   310066.30  \n",
       "1     0.01   417967.80  \n",
       "2     0.01   934766.82  \n",
       "3     0.01   507113.47  \n",
       "4     0.01   830960.17  \n",
       "5     0.01   441984.54  \n",
       "6     0.01   252958.63  \n",
       "7     0.01   422382.18  \n",
       "8     0.01   298047.19  \n",
       "9     0.01  1011829.53  "
      ]
     },
     "execution_count": 20,
     "metadata": {},
     "output_type": "execute_result"
    }
   ],
   "source": [
    "# lets see for the calculated data\n",
    "\n",
    "test_data_head = data.head(10)\n",
    "\n",
    "predicted = []\n",
    "percents = []\n",
    "errors = []\n",
    "for row in test_data_head.itertuples():\n",
    "    pred_v = round(clf.predict([row[1:-1]])[0], 2)\n",
    "    predicted.append(pred_v)\n",
    "    perc = round(row[-1]/(pred_v*100), 2)\n",
    "    percents.append(perc)\n",
    "    errors.append(round(pred_v-row[-1],2))\n",
    "    \n",
    "test_data_head.assign(percent=pd.Series(np.array(percents)).values,\n",
    "                      pred_price=pd.Series(np.array(predicted)).values,\n",
    "                     abs_error=pd.Series(np.array(errors)).values)\n",
    "\n",
    "#clf.predict([[585,2,9,2,2]])"
   ]
  },
  {
   "cell_type": "code",
   "execution_count": 27,
   "metadata": {
    "collapsed": false
   },
   "outputs": [
    {
     "name": "stdout",
     "output_type": "stream",
     "text": [
      "2009957.94\n",
      "[('probe', 127000), ('weight', 365324), ('jew_type', 553285), ('jew_weight', 529729), ('complexity', 434616)]\n",
      "[0 1 4 3 2]\n"
     ]
    },
    {
     "data": {
      "image/png": "[encoded data removed]",
      "text/plain": [
       "<matplotlib.figure.Figure at 0x7f0b1294f748>"
      ]
     },
     "metadata": {},
     "output_type": "display_data"
    }
   ],
   "source": [
    "row = [585,9,6,9,5]\n",
    "#row = [700,1,1,1,1]\n",
    "predict = round(clf.predict([row])[0], 2)\n",
    "print(predict)\n",
    "price_imp = list(zip(features, [int(fi*predict) for fi in clf.feature_importances_]))\n",
    "print(price_imp)\n",
    "\n",
    "\n",
    "importances_name = np.array([f[0] for f in price_imp])\n",
    "importances_value = np.array([f[1] for f in price_imp])\n",
    "indices = np.argsort(importances_value)\n",
    "print(indices)\n",
    "\n",
    "\n",
    "std = np.std([clf.feature_importances_,], axis=0)\n",
    "\n",
    "fig = plt.figure()\n",
    "plt.bar(range(len(indices)), importances_value[indices], width=0.3, color=\"#AEA79F\",\n",
    "        yerr=std[indices], ecolor=\"#DD4814\", align=\"center\")\n",
    "\n",
    "plt.xticks(range(len(indices)), importances_name[indices], rotation=45)\n",
    "plt.grid(color='gray', linestyle='-', linewidth=0.5)"
   ]
  },
  {
   "cell_type": "code",
   "execution_count": null,
   "metadata": {
    "collapsed": true
   },
   "outputs": [],
   "source": []
  }
 ],
 "metadata": {
  "kernelspec": {
   "display_name": "Python 3",
   "language": "python",
   "name": "python3"
  },
  "language_info": {
   "codemirror_mode": {
    "name": "ipython",
    "version": 3
   },
   "file_extension": ".py",
   "mimetype": "text/x-python",
   "name": "python",
   "nbconvert_exporter": "python",
   "pygments_lexer": "ipython3",
   "version": "3.6.4"
  }
 },
 "nbformat": 4,
 "nbformat_minor": 2
}
